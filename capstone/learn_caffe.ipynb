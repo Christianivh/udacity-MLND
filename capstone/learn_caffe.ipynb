{
 "cells": [
  {
   "cell_type": "markdown",
   "metadata": {},
   "source": [
    "# Learn Caffe\n",
    "- Neo Xing"
   ]
  },
  {
   "cell_type": "markdown",
   "metadata": {},
   "source": [
    "## Tutorial\n",
    "### Nets, Layers, and Blobs, the anatomy of a Caffe model\n",
    "- Caffe defines a net layer-by-layer in its own model schema. The network defines the entire model bottom-to-top from input data to loss.\n",
    "\n",
    "- As data and derivatives flow through the network in the forward and backward passes Caffe stores, communicates, and manipulates the information as blobs: the blob is the standard array and unified memory interface for the framework.\n",
    "- The layer comes next as the foundation of both model and computation. \n",
    "- The net follows as the collection and connection of layers. \n",
    "\n",
    "#### Blobs\n",
    "- Caffe stores and communicates data using blobs. Blobs provide a unified memory interface holding data; e.g., batches of images, model parameters, and derivatives for optimization.\n",
    "\n",
    "- The conventional blob dimensions for batches of image data are number N x channel K x height H x width W. Blob memory is row-major in layout, so the last / rightmost dimension changes fastest. For example, in a 4D blob, the value at index (n, k, h, w) is physically located at index ((n * K + k) * H + h) * W + w.\n",
    "    - Number N is the batch size\n",
    "    - Channel K is the feature dimension, for RGB images K = 3\n",
    "    \n",
    "- a Blob stores two chunks of memories, data and diff. The former is the normal data that we pass along, and the latter is the gradient computed by the network.\n",
    "\n",
    "#### Layer computation and connections\n",
    "- The layer is the essence of a model and the fundamental unit of computation. Most of the types needed for state-of-the-art deep learning tasks are there.\n",
    "\n",
    "- A layer takes input through bottom connections and makes output through top connections.\n",
    "- Each layer type defines three critical computations: setup, forward, and backward.\n",
    "\n",
    "#### Net definition and operation\n",
    "- The net jointly defines a function and its gradient by composition and auto-differentiation.\n",
    "- The net is a set of layers connected in a computation graph – a directed acyclic graph (DAG) to be exact.\n",
    "- The net is defined as a set of layers and their connections in a plaintext modeling language. \n",
    "- The models are defined in plaintext protocol buffer ([Google Protocol Buffer](https://code.google.com/p/protobuf/)) schema (`prototxt`) while the learned models are serialized as binary protocol buffer (binaryproto) `.caffemodel` files.\n",
    "\n",
    "- A simple logistic regression classifier defined by following codes.\n",
    "\n",
    "```\n",
    "name: \"LogReg\"\n",
    "layer {\n",
    "  name: \"mnist\"\n",
    "  type: \"Data\"\n",
    "  top: \"data\"\n",
    "  top: \"label\"\n",
    "  data_param {\n",
    "    source: \"input_leveldb\"\n",
    "    batch_size: 64\n",
    "  }\n",
    "}\n",
    "layer {\n",
    "  name: \"ip\"\n",
    "  type: \"InnerProduct\"\n",
    "  bottom: \"data\"\n",
    "  top: \"ip\"\n",
    "  inner_product_param {\n",
    "    num_output: 2\n",
    "  }\n",
    "}\n",
    "layer {\n",
    "  name: \"loss\"\n",
    "  type: \"SoftmaxWithLoss\"\n",
    "  bottom: \"ip\"\n",
    "  bottom: \"label\"\n",
    "  top: \"loss\"\n",
    "}\n",
    "```\n",
    "\n",
    "![](http://caffe.berkeleyvision.org/tutorial/fig/logreg.jpg)\n",
    "\n",
    "\n",
    "### Forward / Backward: the essential computations of layered compositional models\n",
    "\n",
    "\n",
    "- Loss: the task to be learned is defined by the loss.\n",
    "- Solver: the solver coordinates model optimization.\n",
    "- Layer Catalogue: the layer is the fundamental unit of modeling and computation – Caffe’s catalogue includes layers for state-of-the-art models.\n",
    "- Interfaces: command line, Python, and MATLAB Caffe.\n",
    "- Data: how to caffeinate data for model input."
   ]
  },
  {
   "cell_type": "markdown",
   "metadata": {},
   "source": [
    "## PyCaffe"
   ]
  },
  {
   "cell_type": "markdown",
   "metadata": {},
   "source": [
    "## Examples"
   ]
  },
  {
   "cell_type": "markdown",
   "metadata": {},
   "source": [
    "## Others\n",
    "### Install\n",
    "### Config\n",
    "### Tools"
   ]
  },
  {
   "cell_type": "code",
   "execution_count": null,
   "metadata": {
    "collapsed": true
   },
   "outputs": [],
   "source": []
  }
 ],
 "metadata": {
  "kernelspec": {
   "display_name": "Python 2",
   "language": "python",
   "name": "python2"
  },
  "language_info": {
   "codemirror_mode": {
    "name": "ipython",
    "version": 2
   },
   "file_extension": ".py",
   "mimetype": "text/x-python",
   "name": "python",
   "nbconvert_exporter": "python",
   "pygments_lexer": "ipython2",
   "version": "2.7.11"
  }
 },
 "nbformat": 4,
 "nbformat_minor": 0
}
