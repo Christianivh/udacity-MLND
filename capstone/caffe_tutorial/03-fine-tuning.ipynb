{
 "cells": [
  {
   "cell_type": "markdown",
   "metadata": {},
   "source": [
    "# Fine-tuning a Pretrained Network for Style Recognition\n",
    "\n",
    "In this example, we'll explore a common approach that is particularly useful in real-world applications: take a pre-trained Caffe network and fine-tune the parameters on your custom data.\n",
    "\n",
    "The upside of such approach is that, since pre-trained networks are learned on a large set of images, the intermediate layers capture the \"semantics\" of the general visual appearance. Think of it as a very powerful feature that you can treat as a black box. On top of that, only a few layers will be needed to obtain a very good performance of the data."
   ]
  },
  {
   "cell_type": "markdown",
   "metadata": {},
   "source": [
    "First, we will need to prepare the data. This involves the following parts:\n",
    "(1) Get the ImageNet ilsvrc pretrained model with the provided shell scripts.\n",
    "(2) Download a subset of the overall Flickr style dataset for this demo.\n",
    "(3) Compile the downloaded Flickr dataset into a database that Caffe can then consume."
   ]
  },
  {
   "cell_type": "code",
   "execution_count": 1,
   "metadata": {
    "collapsed": false
   },
   "outputs": [],
   "source": [
    "import os\n",
    "os.chdir('..')\n",
    "import sys\n",
    "sys.path.insert(0, './python')\n",
    "\n",
    "import caffe\n",
    "import numpy as np\n",
    "from pylab import *\n",
    "%matplotlib inline"
   ]
  },
  {
   "cell_type": "code",
   "execution_count": 2,
   "metadata": {
    "collapsed": false
   },
   "outputs": [
    {
     "name": "stdout",
     "output_type": "stream",
     "text": [
      "Downloading...\n",
      "--2016-10-09 23:20:46--  http://dl.caffe.berkeleyvision.org/caffe_ilsvrc12.tar.gz\n",
      "Resolving dl.caffe.berkeleyvision.org (dl.caffe.berkeleyvision.org)... 169.229.222.251\n",
      "Connecting to dl.caffe.berkeleyvision.org (dl.caffe.berkeleyvision.org)|169.229.222.251|:80... connected.\n",
      "HTTP request sent, awaiting response... 200 OK\n",
      "Length: 17858008 (17M) [application/octet-stream]\n",
      "Saving to: ‘caffe_ilsvrc12.tar.gz’\n",
      "\n",
      "100%[======================================>] 17,858,008  81.1MB/s   in 0.2s   \n",
      "\n",
      "2016-10-09 23:20:46 (81.1 MB/s) - ‘caffe_ilsvrc12.tar.gz’ saved [17858008/17858008]\n",
      "\n",
      "Unzipping...\n",
      "Done.\n",
      "Model already exists.\n",
      "Downloading 2000 images with 7 workers...\n",
      "Writing train/val for 1992 successfully downloaded images.\n"
     ]
    }
   ],
   "source": [
    "# This downloads the ilsvrc auxiliary data (mean file, etc),\n",
    "# and a subset of 2000 images for the style recognition task.\n",
    "!data/ilsvrc12/get_ilsvrc_aux.sh\n",
    "!scripts/download_model_binary.py models/bvlc_reference_caffenet\n",
    "!python examples/finetune_flickr_style/assemble_data.py \\\n",
    "    --workers=-1 --images=2000 --seed=1701 --label=5"
   ]
  },
  {
   "cell_type": "markdown",
   "metadata": {},
   "source": [
    "Let's show what is the difference between the fine-tuning network and the original caffe model."
   ]
  },
  {
   "cell_type": "code",
   "execution_count": 3,
   "metadata": {
    "collapsed": false
   },
   "outputs": [
    {
     "name": "stdout",
     "output_type": "stream",
     "text": [
      "1c1\r\n",
      "< name: \"CaffeNet\"\r\n",
      "---\r\n",
      "> name: \"FlickrStyleCaffeNet\"\r\n",
      "4c4\r\n",
      "<   type: \"Data\"\r\n",
      "---\r\n",
      ">   type: \"ImageData\"\r\n",
      "15,26c15,19\r\n",
      "< # mean pixel / channel-wise mean instead of mean image\r\n",
      "< #  transform_param {\r\n",
      "< #    crop_size: 227\r\n",
      "< #    mean_value: 104\r\n",
      "< #    mean_value: 117\r\n",
      "< #    mean_value: 123\r\n",
      "< #    mirror: true\r\n",
      "< #  }\r\n",
      "<   data_param {\r\n",
      "<     source: \"examples/imagenet/ilsvrc12_train_lmdb\"\r\n",
      "<     batch_size: 256\r\n",
      "<     backend: LMDB\r\n",
      "---\r\n",
      ">   image_data_param {\r\n",
      ">     source: \"data/flickr_style/train.txt\"\r\n",
      ">     batch_size: 50\r\n",
      ">     new_height: 256\r\n",
      ">     new_width: 256\r\n",
      "31c24\r\n",
      "<   type: \"Data\"\r\n",
      "---\r\n",
      ">   type: \"ImageData\"\r\n",
      "42,51c35,36\r\n",
      "< # mean pixel / channel-wise mean instead of mean image\r\n",
      "< #  transform_param {\r\n",
      "< #    crop_size: 227\r\n",
      "< #    mean_value: 104\r\n",
      "< #    mean_value: 117\r\n",
      "< #    mean_value: 123\r\n",
      "< #    mirror: false\r\n",
      "< #  }\r\n",
      "<   data_param {\r\n",
      "<     source: \"examples/imagenet/ilsvrc12_val_lmdb\"\r\n",
      "---\r\n",
      ">   image_data_param {\r\n",
      ">     source: \"data/flickr_style/test.txt\"\r\n",
      "53c38,39\r\n",
      "<     backend: LMDB\r\n",
      "---\r\n",
      ">     new_height: 256\r\n",
      ">     new_width: 256\r\n",
      "323a310\r\n",
      ">   # Note that lr_mult can be set to 0 to disable any fine-tuning of this, and any other, layer\r\n",
      "360c347\r\n",
      "<   name: \"fc8\"\r\n",
      "---\r\n",
      ">   name: \"fc8_flickr\"\r\n",
      "363c350,351\r\n",
      "<   top: \"fc8\"\r\n",
      "---\r\n",
      ">   top: \"fc8_flickr\"\r\n",
      ">   # lr_mult is set to higher than for other layers, because this layer is starting from random while the others are already trained\r\n",
      "365c353\r\n",
      "<     lr_mult: 1\r\n",
      "---\r\n",
      ">     lr_mult: 10\r\n",
      "369c357\r\n",
      "<     lr_mult: 2\r\n",
      "---\r\n",
      ">     lr_mult: 20\r\n",
      "373c361\r\n",
      "<     num_output: 1000\r\n",
      "---\r\n",
      ">     num_output: 20\r\n",
      "387c375\r\n",
      "<   bottom: \"fc8\"\r\n",
      "---\r\n",
      ">   bottom: \"fc8_flickr\"\r\n",
      "397c385\r\n",
      "<   bottom: \"fc8\"\r\n",
      "---\r\n",
      ">   bottom: \"fc8_flickr\"\r\n"
     ]
    }
   ],
   "source": [
    "!diff models/bvlc_reference_caffenet/train_val.prototxt models/finetune_flickr_style/train_val.prototxt"
   ]
  },
  {
   "cell_type": "markdown",
   "metadata": {},
   "source": [
    "For your record, if you want to train the network in pure C++ tools, here is the command:\n",
    "\n",
    "<code>\n",
    "build/tools/caffe train \\\n",
    "    -solver models/finetune_flickr_style/solver.prototxt \\\n",
    "    -weights models/bvlc_reference_caffenet/bvlc_reference_caffenet.caffemodel \\\n",
    "    -gpu 0\n",
    "</code>\n",
    "\n",
    "However, we will train using Python in this example."
   ]
  },
  {
   "cell_type": "code",
   "execution_count": 4,
   "metadata": {
    "collapsed": false
   },
   "outputs": [
    {
     "name": "stdout",
     "output_type": "stream",
     "text": [
      "iter 0, finetune_loss=3.405821, scratch_loss=3.179682\n",
      "iter 10, finetune_loss=2.722270, scratch_loss=9.002842\n",
      "iter 20, finetune_loss=1.886347, scratch_loss=2.406911\n",
      "iter 30, finetune_loss=1.776482, scratch_loss=1.920538\n",
      "iter 40, finetune_loss=2.430863, scratch_loss=2.057495\n",
      "iter 50, finetune_loss=1.900755, scratch_loss=1.934857\n",
      "iter 60, finetune_loss=1.184684, scratch_loss=1.937282\n",
      "iter 70, finetune_loss=1.121261, scratch_loss=1.787812\n",
      "iter 80, finetune_loss=1.288304, scratch_loss=1.658677\n",
      "iter 90, finetune_loss=1.262951, scratch_loss=1.771544\n",
      "iter 100, finetune_loss=1.035389, scratch_loss=1.730677\n",
      "iter 110, finetune_loss=1.203973, scratch_loss=1.697273\n",
      "iter 120, finetune_loss=1.151863, scratch_loss=1.652318\n",
      "iter 130, finetune_loss=1.126860, scratch_loss=1.686098\n",
      "iter 140, finetune_loss=1.061152, scratch_loss=1.755636\n",
      "iter 150, finetune_loss=1.252853, scratch_loss=1.651802\n",
      "iter 160, finetune_loss=0.907392, scratch_loss=1.729657\n",
      "iter 170, finetune_loss=1.177128, scratch_loss=1.799015\n",
      "iter 180, finetune_loss=1.261270, scratch_loss=1.780800\n",
      "iter 190, finetune_loss=0.857037, scratch_loss=1.743585\n",
      "done\n"
     ]
    }
   ],
   "source": [
    "niter = 200\n",
    "# losses will also be stored in the log\n",
    "train_loss = np.zeros(niter)\n",
    "scratch_train_loss = np.zeros(niter)\n",
    "\n",
    "caffe.set_device(0)\n",
    "caffe.set_mode_gpu()\n",
    "# We create a solver that fine-tunes from a previously trained network.\n",
    "solver = caffe.SGDSolver('models/finetune_flickr_style/solver.prototxt')\n",
    "solver.net.copy_from('models/bvlc_reference_caffenet/bvlc_reference_caffenet.caffemodel')\n",
    "# For reference, we also create a solver that does no finetuning.\n",
    "scratch_solver = caffe.SGDSolver('models/finetune_flickr_style/solver.prototxt')\n",
    "\n",
    "# We run the solver for niter times, and record the training loss.\n",
    "for it in range(niter):\n",
    "    solver.step(1)  # SGD by Caffe\n",
    "    scratch_solver.step(1)\n",
    "    # store the train loss\n",
    "    train_loss[it] = solver.net.blobs['loss'].data\n",
    "    scratch_train_loss[it] = scratch_solver.net.blobs['loss'].data\n",
    "    if it % 10 == 0:\n",
    "        print 'iter %d, finetune_loss=%f, scratch_loss=%f' % (it, train_loss[it], scratch_train_loss[it])\n",
    "print 'done'"
   ]
  },
  {
   "cell_type": "markdown",
   "metadata": {},
   "source": [
    "Let's look at the training loss produced by the two training procedures respectively."
   ]
  },
  {
   "cell_type": "code",
   "execution_count": 5,
   "metadata": {
    "collapsed": false,
    "scrolled": false
   },
   "outputs": [
    {
     "data": {
      "text/plain": [
       "[<matplotlib.lines.Line2D at 0x7f2f11e6d290>,\n",
       " <matplotlib.lines.Line2D at 0x7f2f11e6d490>]"
      ]
     },
     "execution_count": 5,
     "metadata": {},
     "output_type": "execute_result"
    },
    {
     "data": {
      "image/png": "[encoded data removed]",
      "text/plain": [
       "<matplotlib.figure.Figure at 0x7f2f142f8e10>"
      ]
     },
     "metadata": {},
     "output_type": "display_data"
    }
   ],
   "source": [
    "plot(np.vstack([train_loss, scratch_train_loss]).T)"
   ]
  },
  {
   "cell_type": "markdown",
   "metadata": {},
   "source": [
    "Notice how the fine-tuning procedure produces a more smooth loss function change, and ends up at a better loss. A closer look at small values, clipping to avoid showing too large loss during training:"
   ]
  },
  {
   "cell_type": "code",
   "execution_count": 6,
   "metadata": {
    "collapsed": false
   },
   "outputs": [
    {
     "data": {
      "text/plain": [
       "[<matplotlib.lines.Line2D at 0x7f2f10573c50>,\n",
       " <matplotlib.lines.Line2D at 0x7f2f10573e50>]"
      ]
     },
     "execution_count": 6,
     "metadata": {},
     "output_type": "execute_result"
    },
    {
     "data": {
      "image/png": "[encoded data removed]",
      "text/plain": [
       "<matplotlib.figure.Figure at 0x7f2f142f8d50>"
      ]
     },
     "metadata": {},
     "output_type": "display_data"
    }
   ],
   "source": [
    "plot(np.vstack([train_loss, scratch_train_loss]).clip(0, 4).T)"
   ]
  },
  {
   "cell_type": "markdown",
   "metadata": {},
   "source": [
    "Let's take a look at the testing accuracy after running 200 iterations. Note that we are running a classification task of 5 classes, thus a chance accuracy is 20%. As we will reasonably expect, the finetuning result will be much better than the one from training from scratch. Let's see."
   ]
  },
  {
   "cell_type": "code",
   "execution_count": 7,
   "metadata": {
    "collapsed": false
   },
   "outputs": [
    {
     "name": "stdout",
     "output_type": "stream",
     "text": [
      "Accuracy for fine-tuning: 0.563999998569\n",
      "Accuracy for training from scratch: 0.220000001788\n"
     ]
    }
   ],
   "source": [
    "test_iters = 10\n",
    "accuracy = 0\n",
    "scratch_accuracy = 0\n",
    "for it in arange(test_iters):\n",
    "    solver.test_nets[0].forward()\n",
    "    accuracy += solver.test_nets[0].blobs['accuracy'].data\n",
    "    scratch_solver.test_nets[0].forward()\n",
    "    scratch_accuracy += scratch_solver.test_nets[0].blobs['accuracy'].data\n",
    "accuracy /= test_iters\n",
    "scratch_accuracy /= test_iters\n",
    "print 'Accuracy for fine-tuning:', accuracy\n",
    "print 'Accuracy for training from scratch:', scratch_accuracy"
   ]
  },
  {
   "cell_type": "markdown",
   "metadata": {},
   "source": [
    "Huzzah! So we did finetuning and it is awesome. Let's take a look at what kind of results we are able to get with a longer, more complete run of the style recognition dataset. Note: the below URL might be occassionally down because it is run on a research machine.\n",
    "\n",
    "http://demo.vislab.berkeleyvision.org/"
   ]
  }
 ],
 "metadata": {
  "description": "Fine-tune the ImageNet-trained CaffeNet on new data.",
  "example_name": "Fine-tuning for Style Recognition",
  "include_in_docs": true,
  "kernelspec": {
   "display_name": "Python 2",
   "language": "python",
   "name": "python2"
  },
  "language_info": {
   "codemirror_mode": {
    "name": "ipython",
    "version": 2
   },
   "file_extension": ".py",
   "mimetype": "text/x-python",
   "name": "python",
   "nbconvert_exporter": "python",
   "pygments_lexer": "ipython2",
   "version": "2.7.11"
  },
  "priority": 4
 },
 "nbformat": 4,
 "nbformat_minor": 0
}
